{
 "cells": [
  {
   "cell_type": "markdown",
   "id": "af03183e",
   "metadata": {},
   "source": [
    "# *Retrieval Augmented Generation* con las conferencias mañaneras"
   ]
  },
  {
   "cell_type": "markdown",
   "id": "7eda8418",
   "metadata": {},
   "source": [
    "## Una pregunta muy específica\n",
    "\n",
    "Antes de comenzar, quiero mostrarles cuál es la utilidad de utilizar una técnica como esta, comenzaré haciéndole una pregunta muy específica a un modelo genérico:"
   ]
  },
  {
   "cell_type": "code",
   "execution_count": 2,
   "id": "032e3b44",
   "metadata": {},
   "outputs": [],
   "source": [
    "import os"
   ]
  },
  {
   "cell_type": "code",
   "execution_count": 51,
   "id": "1982320c",
   "metadata": {},
   "outputs": [],
   "source": [
    "from openai import OpenAI\n",
    "\n",
    "client = OpenAI()\n",
    "\n",
    "def query_llm(prompt, model=\"gpt-4o-turbo\"):\n",
    "    completions = client.chat.completions.create(\n",
    "\n",
    "    model=\"gpt-3.5-turbo\",\n",
    "        messages=[\n",
    "            {\"role\": \"user\", \"content\": prompt},\n",
    "        ],\n",
    "        temperature=0.0,\n",
    "    )\n",
    "\n",
    "    return completions.choices[0].message.content"
   ]
  },
  {
   "cell_type": "code",
   "execution_count": 4,
   "id": "d22ece33",
   "metadata": {},
   "outputs": [
    {
     "name": "stdout",
     "output_type": "stream",
     "text": [
      "Ser aspiracionista significa tener la convicción de que es posible lograr un cambio positivo en nuestro país, trabajando juntos para construir un México más justo, equitativo y próspero para todos. Es tener la esperanza y la determinación de alcanzar nuestras metas y sueños, siempre con honestidad, transparencia y amor por México. ¡Sí se puede!\n"
     ]
    }
   ],
   "source": [
    "pregunta = \"¿Qué significa ser aspiracionista?\"\n",
    "\n",
    "prompt = \"\"\"Eres Andrés Manuel Lopez Obrador, presidente de México.\n",
    "Responde a la pregunta como si la respuesta la estuviera dando Andrés Manuel Lopez Obrador.\n",
    "\n",
    "Pregunta: {question}\n",
    "\"\"\"\n",
    "final_prompt = prompt.format(question=pregunta)\n",
    "\n",
    "respuesta = query_llm(final_prompt)\n",
    "print(respuesta)"
   ]
  },
  {
   "cell_type": "markdown",
   "id": "9263c33f",
   "metadata": {},
   "source": [
    "## Descargando los datos de mi otro repositorio"
   ]
  },
  {
   "cell_type": "code",
   "execution_count": 5,
   "id": "7058df32",
   "metadata": {},
   "outputs": [],
   "source": [
    "import tempfile\n",
    "from pathlib import Path\n",
    "import subprocess\n",
    "\n",
    "temporary_directory = tempfile.mkdtemp()"
   ]
  },
  {
   "cell_type": "code",
   "execution_count": 6,
   "id": "31f62dcf",
   "metadata": {},
   "outputs": [
    {
     "name": "stderr",
     "output_type": "stream",
     "text": [
      "Note: switching to '4e4283ee9fd3b07eee7574cf2b6200177770a35f'.\n",
      "\n",
      "You are in 'detached HEAD' state. You can look around, make experimental\n",
      "changes and commit them, and you can discard any commits you make in this\n",
      "state without impacting any branches by switching back to a branch.\n",
      "\n",
      "If you want to create a new branch to retain commits you create, you may\n",
      "do so (now or later) by using -c with the switch command. Example:\n",
      "\n",
      "  git switch -c <new-branch-name>\n",
      "\n",
      "Or undo this operation with:\n",
      "\n",
      "  git switch -\n",
      "\n",
      "Turn off this advice by setting config variable advice.detachedHead to false\n",
      "\n"
     ]
    },
    {
     "data": {
      "text/plain": [
       "CompletedProcess(args=['git', 'clone', '-q', '--single-branch', '--branch', 'embeddings-tutorial', '--depth', '1', 'https://github.com/fferegrino/mananeras.git', '/var/folders/f2/32fx7hzs4qb3mtt5x1kt75bc0000gn/T/tmpyl0kxye5/mananeras'], returncode=0)"
      ]
     },
     "execution_count": 6,
     "metadata": {},
     "output_type": "execute_result"
    }
   ],
   "source": [
    "\n",
    "conferencias_repo_url = \"https://github.com/fferegrino/mananeras.git\"\n",
    "conferencias_repo_dir = Path(temporary_directory, \"mananeras\")\n",
    "\n",
    "subprocess.run([\"git\", \"clone\", \"-q\", \"--single-branch\",\"--branch\", 'embeddings-tutorial', \"--depth\", \"1\", conferencias_repo_url, str(conferencias_repo_dir)])"
   ]
  },
  {
   "cell_type": "markdown",
   "id": "3407b029",
   "metadata": {},
   "source": [
    "## Cargando los documentos\n",
    "\n",
    "Todo sistema *RAG* comienza cargando un conjunto inicial de documentos. "
   ]
  },
  {
   "cell_type": "code",
   "execution_count": 10,
   "id": "470b8a0e",
   "metadata": {},
   "outputs": [],
   "source": [
    "import mananeras\n",
    "\n",
    "conferencias = mananeras.lee_todas(conferencias_repo_dir)"
   ]
  },
  {
   "cell_type": "code",
   "execution_count": 11,
   "id": "90df55cf",
   "metadata": {},
   "outputs": [
    {
     "data": {
      "text/plain": [
       "2674"
      ]
     },
     "execution_count": 11,
     "metadata": {},
     "output_type": "execute_result"
    }
   ],
   "source": [
    "len(conferencias)"
   ]
  },
  {
   "cell_type": "code",
   "execution_count": 12,
   "id": "0d7f46f2",
   "metadata": {},
   "outputs": [
    {
     "name": "stdout",
     "output_type": "stream",
     "text": [
      "Versión estenográfica. Conferencia de prensa del presidente Andrés Manuel López Obrador del 14 de noviembre de 2022\n",
      "2022-11-14\n",
      "Participacion(hablante='PREGUNTA', dialogos=['Gracias, presidente. Dalila Escobar, de Proceso.', 'Bueno, porque es un asunto coyuntural, por supuesto, el tema de la manifestación que se llevó a cabo ayer. Solamente un orador, como se había adelantado, que llamó a que no se regresara a una etapa que ya se había superado en torno a dejar que de nuevo el INE caiga en manos de decisiones que tengan que ver solamente con gobierno, esto porque parte de las interpretaciones tienen que ver con que, si es el pueblo el que elige a consejeros, etcétera, sería en todo caso una especie de elección desde quienes estén en el poder.', 'Preguntarle sus impresiones, sobre todo también con la cantidad de personas que asistieron porque, bueno, se manejaba que son entre 10 mil, más o menos, algo así, la Ciudad de México manejó un número un tato reducido a lo que se observó.', '¿Cómo la vio usted? Sabemos que usted estuvo fuera celebrando su cumpleaños.'])\n"
     ]
    }
   ],
   "source": [
    "print(conferencias[1].titulo)\n",
    "print(conferencias[1].fecha)\n",
    "print(conferencias[1].participaciones[6])"
   ]
  },
  {
   "cell_type": "markdown",
   "id": "4eed26c8",
   "metadata": {},
   "source": [
    "## Filtrar solo las participaciones del presidente"
   ]
  },
  {
   "cell_type": "code",
   "execution_count": 13,
   "id": "84e87f5b",
   "metadata": {},
   "outputs": [],
   "source": [
    "dialogos_presidente = []\n",
    "\n",
    "for conferencia in conferencias:\n",
    "    dialogos_conferencia = []\n",
    "    for participacion in conferencia.participaciones:\n",
    "        hablante = participacion.hablante.lower()\n",
    "        dialogos_participacion = []\n",
    "        if 'andrés manuel' in hablante or 'andrésmanuel' in hablante:\n",
    "            for dialogo in participacion.dialogos:\n",
    "                dialogos_participacion.append(dialogo)\n",
    "        if len(dialogos_participacion) > 0:\n",
    "            dialogos_conferencia.append(\"\\n\".join(dialogos_participacion))\n",
    "    if len(dialogos_conferencia) > 0:\n",
    "        conferencia = {\n",
    "            \"title\": conferencia.titulo,\n",
    "            \"document\": \"\\n\".join(dialogos_conferencia)\n",
    "        }\n",
    "        dialogos_presidente.append(conferencia)"
   ]
  },
  {
   "cell_type": "code",
   "execution_count": 14,
   "id": "d3d0d73c",
   "metadata": {},
   "outputs": [
    {
     "data": {
      "text/plain": [
       "1985"
      ]
     },
     "execution_count": 14,
     "metadata": {},
     "output_type": "execute_result"
    }
   ],
   "source": [
    "len(dialogos_presidente)"
   ]
  },
  {
   "cell_type": "code",
   "execution_count": 15,
   "id": "59e0480a",
   "metadata": {},
   "outputs": [
    {
     "name": "stdout",
     "output_type": "stream",
     "text": [
      "Muy buenos días. Ánimo.\n",
      "Bueno, vamos, como todos los lunes, a dar a conocer el Quién es quién en los precios.\n",
      "Y también, se va a hacer una invitación, una convocatoria, un llamamiento porque inicia el Buen Fin de este año 2022. Va a intervenir Ricardo Sheffield y también va a intervenir José Héctor Tejada Shaar, que es el presidente de la Concanaco, y la secretaria de Economía, Raquel Buenrostro; nos acompaña también Andrea Hernández Xoxotla, es administradora general de Servicios al Contribuyen\n"
     ]
    }
   ],
   "source": [
    "print(dialogos_presidente[0]['document'][:500])"
   ]
  },
  {
   "cell_type": "markdown",
   "id": "bc1cb2fa",
   "metadata": {},
   "source": [
    "## Divide documento en partes (*chunks*)\n",
    "\n",
    "Si estás trabajando con documentos grandes, es importarte dividirlo en partes, que vamos a llamar *chunks*.\n",
    "\n",
    "Esto cumple dos funciones:\n",
    "\n",
    " * Mejorar la relevancia semántica de nuestros embeddings: un documento muy grande puede cubrir demasiados temas, mientras que uno pequeño puede estar más enfocado en un solo tópico\n",
    " * Facilitar la tarea del modelo de lenuaje generativo – *chunks* más pequeños hacen que la ventana de contexto sea más pequeña\n",
    "\n",
    "El proceso de división tiene varios parámetros: el tamaño del *chunk* y el tamaño de traslape entre *chunks*.\n",
    "\n",
    "Existen diversas técnicas de división de documentos, algunas más complejas que otras, la función que estoy usando debajo es una de las más fáciles pero menos recomendables."
   ]
  },
  {
   "cell_type": "code",
   "execution_count": 16,
   "id": "21f708fe",
   "metadata": {},
   "outputs": [],
   "source": [
    "def chunk_document_content(document_content, max_size=300, overlap=10):\n",
    "    tokens = document_content.split()\n",
    "    chunks = []\n",
    "    token_count = len(tokens)\n",
    "    i = 0\n",
    "    while i < token_count:\n",
    "        chunks.append(\" \".join(tokens[i:i+max_size]))\n",
    "        i += max_size - overlap\n",
    "    return chunks"
   ]
  },
  {
   "cell_type": "code",
   "execution_count": 17,
   "id": "44cbd08d",
   "metadata": {},
   "outputs": [
    {
     "name": "stdout",
     "output_type": "stream",
     "text": [
      "Chunk 0: Nosotros elegimos ir a la luna. Elegimos ir a la luna. Elegimos ir a la\n",
      "\n",
      "Chunk 1: luna. Elegimos ir a la luna en esta década y hacer otras cosas no porque\n",
      "\n",
      "Chunk 2: hacer otras cosas no porque sean fáciles, sino porque son difíciles. Porque esa meta servirá\n",
      "\n",
      "Chunk 3: difíciles. Porque esa meta servirá para organizar y medir lo mejor de nuestras energías y\n",
      "\n",
      "Chunk 4: mejor de nuestras energías y habilidades, porque ese desafío es uno que estamos dispuestos a\n",
      "\n",
      "Chunk 5: uno que estamos dispuestos a aceptar.\n",
      "\n"
     ]
    }
   ],
   "source": [
    "speech = \"Nosotros elegimos ir a la luna. Elegimos ir a la luna. Elegimos ir a la luna en esta década y hacer otras cosas no porque sean fáciles, sino porque son difíciles. Porque esa meta servirá para organizar y medir lo mejor de nuestras energías y habilidades, porque ese desafío es uno que estamos dispuestos a aceptar.\"\n",
    "\n",
    "chunks = chunk_document_content(speech, max_size=15, overlap=5)\n",
    "for idx, chunk in enumerate(chunks):\n",
    "    print(f\"Chunk {idx}: {chunk}\\n\")"
   ]
  },
  {
   "cell_type": "markdown",
   "id": "c0142cda",
   "metadata": {},
   "source": [
    "## Dividiendo las conferencias mientras mantenemos la referencia a la fuente original"
   ]
  },
  {
   "cell_type": "code",
   "execution_count": 18,
   "id": "9a18eb49",
   "metadata": {},
   "outputs": [],
   "source": [
    "chunked_documents = []\n",
    "chunk_unique_id = 0\n",
    "for doc_id, document in enumerate(dialogos_presidente):\n",
    "    chunks = chunk_document_content(document[\"document\"])\n",
    "    for chunk_id, chunk in enumerate(chunks):\n",
    "        chunked_documents.append({\n",
    "            \"id\": chunk_unique_id,\n",
    "            \"document_id\": doc_id,\n",
    "            \"text\": chunk\n",
    "        })\n",
    "        chunk_unique_id += 1"
   ]
  },
  {
   "cell_type": "code",
   "execution_count": 19,
   "id": "eaa8cb4c",
   "metadata": {},
   "outputs": [
    {
     "name": "stdout",
     "output_type": "stream",
     "text": [
      "29174\n"
     ]
    }
   ],
   "source": [
    "print(len(chunked_documents))"
   ]
  },
  {
   "cell_type": "code",
   "execution_count": 56,
   "id": "0ecc7992",
   "metadata": {},
   "outputs": [
    {
     "data": {
      "text/plain": [
       "{'id': 1,\n",
       " 'document_id': 0,\n",
       " 'text': 'los que se manifestaron ayer lo hicieron en contra de la transformación que se está llevando en el país, lo hicieron a favor de los privilegios que ellos tenían antes del gobierno que represento, lo hicieron a favor de la corrupción, lo hicieron a favor del racismo, a favor del clasismo, de la discriminación, ese es el fondo, porque ni modo que Madrazo y Elba Esther y Fox sean demócratas, ¿no? El mismo Woldenberg, que convalidó fraudes electorales cuando estuvo en el INE. Le voy más a la maestra Elba Esther, porque esa no se da baños de pureza, es más sincera que Woldenberg. Porque lo que más molesta es la hipocresía, la simulación. Yo creo que fue muy importante la marcha de ayer, fue como una especie de estriptis político, público, del conservadurismo en México. Y esto es muy bueno, pero muy bueno, porque, si no emerge esto, se mantiene soterrado, y hace mucho daño para tener una sociedad mejor, más justa, más igualitaria, más fraterna. Errores históricos, por ejemplo, el que se va Franco y se queda el franquismo, y nadie dice nada, y se quedan callados. En Chile, sale Pinochet, pero se mantiene ese pensamiento, y nadie dice nada, porque evitan el debate, la confrontación, convierten estos temas en tabú, en temas vedados; y en el mediano, largo plazo, se daña muchísimo. Está saliendo ahora la hipocresía que prevalecía y que sigue existiendo, está saliendo el clasismo, el racismo. ¡Cuánto engañaban de que eran distintos, el PRI, el PAN, los independientes! ¡Cuánto engañaban de que la prensa, los medios de información eran objetivos, profesionales, equilibrados, cercanos al pueblo, distantes de poder! Pues todo eso está quedando en evidencia, y es muy bueno, ojalá y se continúe así. Y me dio mucho gusto de que, a pesar de'}"
      ]
     },
     "execution_count": 56,
     "metadata": {},
     "output_type": "execute_result"
    }
   ],
   "source": [
    "chunked_documents[1]"
   ]
  },
  {
   "cell_type": "markdown",
   "id": "5896452f-f350-4daf-bf1d-232e3d22b5ca",
   "metadata": {},
   "source": [
    "## Calculando embeddings\n",
    "\n",
    "Para generar los embeddings vamos a utilizar un modelo local, descargado de Hugging Face."
   ]
  },
  {
   "cell_type": "code",
   "execution_count": 29,
   "id": "f6fe4847",
   "metadata": {},
   "outputs": [
    {
     "name": "stderr",
     "output_type": "stream",
     "text": [
      "/Users/cristhiancuenca/SourceCode/AI/LLMs/mananeras-rag/.venv/lib/python3.12/site-packages/huggingface_hub/file_download.py:1132: FutureWarning: `resume_download` is deprecated and will be removed in version 1.0.0. Downloads always resume when possible. If you want to force a new download, use `force_download=True`.\n",
      "  warnings.warn(\n"
     ]
    }
   ],
   "source": [
    "from sentence_transformers import SentenceTransformer\n",
    "\n",
    "model = SentenceTransformer('paraphrase-multilingual-mpnet-base-v2')"
   ]
  },
  {
   "cell_type": "code",
   "execution_count": 27,
   "id": "97653a51",
   "metadata": {},
   "outputs": [],
   "source": [
    "def get_embedding(text):\n",
    "    return model.encode(text)"
   ]
  },
  {
   "cell_type": "code",
   "execution_count": 53,
   "id": "14776716",
   "metadata": {},
   "outputs": [
    {
     "name": "stdout",
     "output_type": "stream",
     "text": [
      "(768,)\n",
      "[ 1.76741742e-02  1.25786006e-01 -1.10591017e-02  8.07093158e-02\n",
      "  2.19953090e-01  6.60998141e-03 -1.46027803e-02  3.07636335e-02\n",
      "  6.89360946e-02  2.32642479e-02  5.49176820e-02 -8.51896852e-02\n",
      " -5.23980781e-02 -3.60355154e-02  2.28620514e-01 -2.54882693e-01\n",
      "  1.25053391e-01 -6.04240671e-02 -2.73311496e-01 -4.15843092e-02\n",
      "  1.15275949e-01 -3.05613689e-02  1.12574160e-01 -9.22448263e-02\n",
      "  4.08078432e-02  1.07518509e-01 -8.22311491e-02  1.24371707e-01\n",
      "  6.01274297e-02  7.04638660e-02  1.23964369e-01  1.14023443e-02\n",
      "  7.12504685e-02 -7.73435365e-03  1.13680713e-01 -8.08565542e-02\n",
      "  7.96617717e-02 -1.69565957e-02 -1.37967527e-01 -1.77947134e-02\n",
      "  1.12821549e-01 -9.75775197e-02 -1.08611554e-01  1.07095458e-01\n",
      " -1.71698406e-01 -7.62376264e-02 -5.71165830e-02 -1.04472242e-01\n",
      "  5.31469006e-03  1.16451114e-01  7.42642209e-02  3.84854496e-01\n",
      "  7.06795380e-02  1.00253969e-01  1.59230560e-01 -6.28339499e-02\n",
      "  8.33500624e-02 -6.45243824e-02  2.79638004e-02 -2.72255391e-04\n",
      "  1.06029622e-01 -7.70282224e-02 -1.95277575e-02 -1.37520045e-01\n",
      " -1.55022353e-01  3.43325362e-02  1.67857349e-01 -4.35320195e-04\n",
      " -9.05142128e-02  1.64027736e-02  2.09308475e-01  9.37906504e-02\n",
      " -9.14277285e-02  3.46616805e-01  1.24862939e-02 -2.17008308e-01\n",
      "  2.43074968e-02 -9.30845663e-02  3.42985988e-02 -4.22747992e-03\n",
      "  6.50271168e-03 -6.22951053e-02 -9.00854617e-02  2.69545540e-02\n",
      " -1.56601906e-01  2.66190767e-01 -7.97859430e-02  2.36098021e-02\n",
      " -2.50675797e-01 -1.60052124e-02 -8.64895880e-02  5.88211790e-02\n",
      " -6.45203367e-02 -6.94549829e-02  7.83803761e-02 -6.46945536e-02\n",
      "  9.90381613e-02  1.37242690e-01  2.16465797e-02 -6.30770996e-02\n",
      "  7.76997507e-02  1.52019799e-01  1.63421065e-01  1.82508007e-02\n",
      "  1.60958424e-01 -1.85798436e-01  7.96014220e-02 -2.89984524e-01\n",
      " -1.75545663e-02 -2.20636174e-01 -6.13403060e-02  1.73059292e-02\n",
      "  1.50103122e-01  6.91645890e-02 -9.75655690e-02  1.06307445e-02\n",
      "  1.17437758e-01  2.96396948e-02  2.31241107e-01 -2.73520257e-02\n",
      "  3.09920281e-01 -1.56040341e-01 -4.17621881e-02  9.03928280e-02\n",
      " -1.35633349e-01  1.06659971e-01 -1.74773172e-01 -1.07540131e-01\n",
      " -1.63872480e-01 -2.45398581e-01 -1.05617523e-01 -4.20230553e-02\n",
      "  1.48987789e-02  8.41208771e-02  1.07616037e-01 -1.43624410e-01\n",
      " -1.21759839e-01 -1.11509584e-01  1.29020333e-01  3.98139004e-03\n",
      " -7.38597363e-02  8.32318962e-02  2.37542447e-02  3.12438607e-02\n",
      "  5.94946630e-02 -5.00657223e-02  2.41197627e-02  4.37211916e-02\n",
      " -3.94165935e-03  1.33068152e-02  2.41483867e-01  2.32960731e-02\n",
      " -4.26864207e-01  8.59418809e-02  8.81905705e-02  5.98892495e-02\n",
      "  3.56546603e-02 -1.09327801e-01 -1.61590010e-01 -9.50996876e-02\n",
      "  1.06145397e-01 -1.06784012e-02  1.14466436e-03  9.54646841e-02\n",
      "  1.25507429e-01 -6.81217946e-03  8.05005059e-02 -1.25381753e-01\n",
      " -4.49689552e-02 -1.63363397e-01 -1.01612091e-01 -6.51309788e-02\n",
      "  1.25495447e-02 -9.48751345e-02 -1.22442879e-02 -2.45105326e-01\n",
      " -1.98925257e-01  1.44521445e-01 -1.37759075e-01 -9.03377831e-02\n",
      " -1.84072077e-01 -1.48490071e-01 -3.07567194e-02  4.31734249e-02\n",
      "  5.40974364e-03  5.82199655e-02  8.33233148e-02 -9.00617149e-03\n",
      "  1.32827833e-03  7.00863674e-02 -4.27252091e-02  5.67372739e-02\n",
      " -1.33650929e-01  9.83239189e-02  2.91669276e-02 -5.20588309e-02\n",
      "  2.03853041e-01 -2.61298846e-03  2.03715950e-01 -6.14496879e-03\n",
      " -3.69780958e-02 -6.07667118e-02  1.39086008e-01  2.04410896e-01\n",
      " -5.09931818e-02  2.15832680e-01  1.08077034e-01  6.28175512e-02\n",
      "  2.17449039e-01  1.44522011e-01  2.74064004e-01  1.07946999e-01\n",
      "  5.91473505e-02  5.40539026e-02 -4.25960943e-02  7.74541646e-02\n",
      "  2.52986364e-02  1.96966380e-01  1.18186153e-01  2.84629405e-01\n",
      " -2.46868879e-02  6.72603548e-02  2.12818254e-02 -9.50712413e-02\n",
      "  4.07300666e-02  9.29597318e-02  1.02240324e-01 -3.12330760e-02\n",
      " -1.72439665e-02 -1.10603794e-02 -4.26681340e-02 -4.93034124e-02\n",
      "  6.17486350e-02 -5.25268614e-02 -1.30273253e-01  6.38807565e-02\n",
      "  6.42265333e-03 -2.02674419e-01  2.50924170e-01 -4.66043741e-01\n",
      " -5.26176989e-02  2.19989672e-01  8.29198807e-02  5.91252074e-02\n",
      "  1.37654066e-01  5.70594296e-02 -9.27332789e-02 -6.90590590e-02\n",
      "  1.11318335e-01  9.10513699e-02  1.29878432e-01  4.07465659e-02\n",
      " -2.25223273e-01 -7.77543262e-02 -6.44008722e-03 -2.48025417e-01\n",
      " -1.98412761e-02 -5.46066500e-02 -7.97496550e-03 -8.07705969e-02\n",
      " -7.10235313e-02 -2.67357714e-02  1.60300806e-02 -4.74998727e-04\n",
      "  9.90602598e-02  1.00379288e-01  1.01786464e-01 -2.95849979e-01\n",
      " -6.99114576e-02 -1.76480189e-02  3.86290401e-02  1.32129341e-02\n",
      "  1.91973954e-01 -6.84416443e-02  3.96515429e-02 -3.38560119e-02\n",
      "  1.16792694e-01 -1.31957591e-01 -9.46768373e-03  1.82288706e-01\n",
      "  7.81468302e-03  5.29803000e-02 -1.79780379e-01 -3.94542888e-02\n",
      " -4.36654240e-02  5.67214265e-02  8.27209651e-02 -1.58996493e-01\n",
      "  8.60522240e-02 -1.93891048e-01 -2.17909478e-02  5.81743717e-02\n",
      " -1.14545245e-02 -2.62262691e-02  3.89470682e-02 -3.71975005e-02\n",
      " -4.19728346e-02  1.45406961e-01  5.08441329e-02  8.46778154e-02\n",
      "  8.11705440e-02  1.08713105e-01  1.19519636e-01 -6.23437436e-03\n",
      "  2.10997239e-02 -8.77274126e-02  1.44627213e-01 -2.23674066e-02\n",
      "  4.71593998e-02  4.55312021e-02 -3.59672271e-02 -3.28699052e-02\n",
      " -2.27180496e-02  1.28377125e-01 -1.51050892e-02 -6.46656901e-02\n",
      " -3.56668420e-02 -9.58059579e-02 -3.05476859e-02 -7.87422806e-02\n",
      " -2.22880952e-02  1.40284132e-02  1.14660643e-01  8.35018456e-02\n",
      " -9.50911641e-02  8.04581493e-03  1.63519643e-02  4.47433032e-02\n",
      "  9.22846869e-02 -7.70899504e-02  1.31885007e-01 -2.01144572e-02\n",
      "  2.27903202e-02 -7.50908628e-04 -2.57652462e-01 -1.47704631e-01\n",
      "  5.53196371e-02 -2.42498398e-01 -5.90937920e-02  7.36993700e-02\n",
      " -1.51609659e-01 -1.63189217e-01  6.32425211e-03  9.05619711e-02\n",
      " -2.89263546e-01  5.94758503e-02 -6.08897358e-02 -7.54456073e-02\n",
      " -1.40677899e-01 -1.45997955e-02 -9.46259648e-02  7.86071196e-02\n",
      "  4.63910922e-02 -1.38698705e-02  7.24398438e-03 -1.36741519e-01\n",
      " -9.29971486e-02  1.72214895e-01 -4.39623445e-02 -1.28073663e-01\n",
      " -8.24552029e-02 -1.19564436e-01  9.58293602e-02  1.24492407e-01\n",
      "  1.98896319e-01  7.10276589e-02  9.00618806e-02  5.25023304e-02\n",
      " -1.42338052e-02  7.10540414e-02 -6.36594966e-02  8.52326304e-02\n",
      "  5.50198257e-02  1.46650001e-01  4.80885059e-02 -5.66458069e-02\n",
      " -8.53338465e-02 -2.28997737e-01  4.42798063e-02 -5.79798967e-02\n",
      " -4.20220420e-02  5.29529154e-02  2.35441849e-01  2.83950008e-02\n",
      " -8.06720927e-02  1.13705948e-01 -3.98199260e-02  1.02186333e-02\n",
      "  1.78247094e-01  7.79455602e-02  2.73922887e-02 -1.76449731e-01\n",
      " -9.19815227e-02  9.79911387e-02 -6.30764663e-02  2.47769654e-02\n",
      "  1.14319474e-01  1.44798964e-01 -7.38421381e-02  6.12250008e-02\n",
      " -1.21575668e-01  1.47490799e-01  1.03660747e-02  2.94111613e-02\n",
      " -4.76955697e-02 -3.39179225e-02  1.88579232e-01  9.50622372e-03\n",
      "  1.69329345e-01 -8.09111074e-02 -2.58544445e-01  1.17309056e-01\n",
      "  2.65429795e-01  1.41790500e-02 -1.91939592e-01 -1.28631264e-01\n",
      " -2.40741484e-02 -1.27139017e-01 -2.48320941e-02 -1.80903643e-01\n",
      "  1.42379114e-02  1.30370677e-01  3.79658006e-02  1.35676846e-01\n",
      " -4.54212204e-02  1.41335493e-02  6.57233447e-02  1.78350687e-01\n",
      " -6.45534992e-02 -6.62496090e-02 -1.12377862e-02  7.68647939e-02\n",
      "  1.31481349e-01  1.33667007e-01 -1.23710759e-01 -2.90738940e-02\n",
      "  1.58715680e-01  2.05911994e-02 -1.46870360e-01 -9.83221084e-02\n",
      "  3.12548969e-03  5.06276935e-02  2.99457103e-01 -2.83295242e-03\n",
      " -5.80110960e-02  2.11055592e-01 -3.52239497e-02 -2.02170581e-01\n",
      "  2.86286250e-02 -2.14255750e-01  5.51819988e-03 -1.13842219e-01\n",
      " -3.36546078e-02 -6.85792863e-02  7.19617829e-02 -5.39895669e-02\n",
      "  2.99271904e-02  1.48011744e-01 -3.05825658e-02 -9.16720554e-02\n",
      "  1.47543803e-01  2.55867153e-01 -3.38373780e-02  1.60266519e-01\n",
      " -6.98654354e-02 -7.99171552e-02 -9.96683314e-02  4.40380163e-02\n",
      "  2.38885462e-01 -1.10748053e-01 -1.57865912e-01  2.79566087e-02\n",
      "  1.41593255e-02  1.17281392e-01 -6.62008226e-02  4.94129509e-02\n",
      " -1.46340325e-01 -6.42150193e-02 -2.50399172e-01 -1.14972256e-02\n",
      "  2.44944207e-02 -1.60743535e-01  4.55576219e-02 -6.61630929e-02\n",
      " -4.52221781e-02 -1.49384320e-01  1.86605155e-01  1.78736299e-02\n",
      " -9.08068120e-02 -3.37251276e-03 -1.10963717e-01 -7.42469579e-02\n",
      "  4.07448784e-02  1.29042938e-01 -2.56653458e-01  7.98981935e-02\n",
      "  9.35150832e-02 -4.62383479e-02 -1.74460039e-01  4.32249159e-02\n",
      " -1.10671530e-03  1.73881464e-02  4.16712202e-02 -9.35424492e-02\n",
      "  5.45746572e-02 -2.98338793e-02 -5.38226962e-02 -7.37787485e-02\n",
      "  1.26240104e-02 -3.77212204e-02 -2.54493710e-02  5.82963265e-02\n",
      "  4.62108757e-03 -2.91642547e-01  8.93985182e-02  2.03306898e-01\n",
      "  6.94411844e-02  2.03615397e-01  8.87758955e-02  9.81917325e-03\n",
      " -8.55996646e-03 -3.19336876e-02 -3.25389653e-02  2.66413800e-02\n",
      " -3.70860323e-02  1.21802606e-01  8.08422826e-03 -5.80673367e-02\n",
      "  1.03306830e-01  3.25714871e-02 -2.85172999e-01 -3.43910083e-02\n",
      "  2.76771426e-01  1.54782683e-01 -1.05372071e-01  1.05982691e-01\n",
      "  9.33077093e-03 -1.91006605e-02 -4.02415544e-02  1.38900802e-01\n",
      " -5.20248190e-02  8.34904313e-02  1.04845434e-01 -2.24005710e-02\n",
      "  1.63281530e-01  2.35104978e-01 -3.68602127e-02  1.20350912e-01\n",
      " -1.51084065e-01 -1.44641995e-01 -5.07897213e-02  3.60574946e-02\n",
      " -1.83614910e-01  2.86553763e-02  6.39751852e-02 -1.26249969e-01\n",
      " -1.05006486e-01 -2.40723956e-02 -1.63978368e-01 -6.69710115e-02\n",
      " -1.65840775e-01 -1.53839245e-01 -8.27576518e-02  8.57285038e-02\n",
      " -8.83775651e-02  9.74228904e-02 -1.48206234e-01  7.44173676e-02\n",
      "  6.03493862e-03  5.56764528e-02 -5.94908968e-02 -1.09078437e-02\n",
      "  1.45297199e-01  1.15516260e-01  5.35462275e-02  1.56112969e-01\n",
      "  1.14843301e-01  2.94275451e-02 -1.04756709e-02 -1.36746764e-01\n",
      "  1.49746999e-01 -2.96487678e-02 -1.13767907e-02  7.67339244e-02\n",
      "  1.21734686e-01  4.37885299e-02 -1.31353468e-01  1.47011235e-01\n",
      "  3.53446975e-03  1.16484530e-01 -4.07043621e-02  1.83344990e-01\n",
      "  7.92122036e-02 -9.43740457e-03  4.17150930e-02 -6.38289824e-02\n",
      "  1.41946882e-01  4.37913090e-02 -3.31244878e-02 -6.70311749e-02\n",
      "  5.72454883e-03 -8.74514971e-03  3.84170674e-02  2.79028453e-02\n",
      " -1.32133752e-01  1.32619031e-03 -1.67607546e-01 -4.77690846e-02\n",
      "  4.66016633e-03 -2.47169361e-01 -2.25277722e-01 -1.07060134e-01\n",
      "  1.36035979e-01 -7.99224675e-02  6.24129549e-02 -2.59737857e-02\n",
      "  9.95130539e-02 -4.68383580e-02 -1.37938455e-01 -3.34436931e-02\n",
      "  5.32935262e-02 -1.69506460e-01 -7.63896853e-04  1.37621894e-01\n",
      "  3.59245948e-03 -8.49478245e-02  1.00065611e-01  6.23394772e-02\n",
      " -2.94826720e-02  1.77002236e-01 -3.59651566e-01  1.90695897e-02\n",
      " -1.33020416e-01 -6.91917390e-02  7.11491257e-02 -9.96911991e-03\n",
      "  9.98639166e-02 -4.15174440e-02 -8.99139717e-02  9.59320664e-02\n",
      " -5.06172776e-02  3.16704333e-01 -1.01256475e-01  1.50846019e-02\n",
      "  4.45277840e-02  2.10949630e-02 -1.48452908e-01 -3.45144451e-01\n",
      "  7.91624039e-02 -1.84662491e-01 -7.21352026e-02  2.45137960e-02\n",
      "  1.28520310e-01 -1.06700256e-01  1.19933777e-01 -3.45252901e-02\n",
      "  1.17668346e-01 -1.15490258e-01 -2.91730762e-01  5.10501750e-02\n",
      " -7.66248927e-02  1.16231464e-01 -7.85680860e-02  2.66135652e-02\n",
      " -4.11978224e-03 -1.97121724e-02 -7.30113126e-03  9.77100953e-02\n",
      "  5.19999117e-02  2.89143752e-02 -9.27533954e-02  4.65654209e-03\n",
      " -6.58905059e-02  1.32403791e-01 -7.84827843e-02  3.83476280e-02\n",
      "  3.91534492e-02  7.66334217e-03 -1.67630166e-01  9.51717123e-02\n",
      " -2.94521540e-01  1.00552499e-01 -1.35368139e-01 -1.92531869e-02\n",
      "  1.82702154e-01  3.97887714e-02  6.09394629e-04 -1.30886674e-01\n",
      "  2.29187775e-02 -2.50216443e-02 -9.09528285e-02  1.14490196e-01\n",
      "  9.88068208e-02 -2.98228897e-02  3.59180532e-02 -1.60771217e-02\n",
      "  2.02426732e-01  7.96548948e-02  9.97955278e-02  5.96224982e-03\n",
      "  1.51398946e-02 -1.63391549e-02 -7.26440027e-02 -1.74500898e-01\n",
      " -9.74012241e-02 -9.75317657e-02 -1.74259394e-01 -2.04796996e-02\n",
      "  1.01832636e-01  7.06429929e-02  9.27090496e-02 -9.17721838e-02\n",
      "  2.16901265e-02  1.01288252e-01  2.59937495e-02  5.29940277e-02\n",
      " -1.03259608e-01 -2.54203882e-02  4.27925959e-02 -1.27254188e-01\n",
      " -2.49360725e-02  1.07483469e-01 -1.98624879e-01 -1.44155724e-02\n",
      "  1.24583460e-01  1.51488828e-02  1.33191764e-01 -1.84516124e-02\n",
      "  6.99544251e-02 -1.10331267e-01  1.46735460e-01 -3.52063845e-03\n",
      " -1.72205478e-01  1.00617215e-01  4.94460575e-02 -3.81897427e-02\n",
      "  6.61100745e-02  7.71415187e-03 -6.69504181e-02  8.66244920e-03\n",
      " -6.36172220e-02  5.38294911e-02  3.30131575e-02  1.04564019e-01\n",
      " -9.08897147e-02  5.57311177e-02 -3.49480845e-02  1.13185197e-02\n",
      " -1.59522980e-01 -6.49087206e-02 -1.88873708e-01  3.35947424e-02\n",
      " -6.74179662e-03 -7.07280710e-02  1.05981365e-01 -1.08507901e-01\n",
      "  1.12794898e-03 -3.47456038e-02  1.84438288e-01  7.90897384e-02\n",
      "  1.65812746e-01  1.34595931e-01 -2.81499401e-02  6.09307587e-02\n",
      "  7.08712861e-02  2.08301336e-01 -2.34031808e-02 -1.10966936e-01]\n"
     ]
    }
   ],
   "source": [
    "embedding = get_embedding(\"Hola mundo\")\n",
    "print(embedding.shape)\n",
    "print(embedding)"
   ]
  },
  {
   "cell_type": "code",
   "execution_count": null,
   "id": "f688b221",
   "metadata": {},
   "outputs": [],
   "source": []
  },
  {
   "cell_type": "markdown",
   "id": "79249fd3",
   "metadata": {},
   "source": [
    "## Insertando embeddings en la base de datos vectorial"
   ]
  },
  {
   "cell_type": "code",
   "execution_count": 21,
   "id": "e24ee562",
   "metadata": {},
   "outputs": [],
   "source": [
    "from annoy import AnnoyIndex\n",
    "import os\n",
    "\n",
    "embedding_size = 768\n",
    "index_name = \"full-index-mananeras.ann\""
   ]
  },
  {
   "cell_type": "code",
   "execution_count": 22,
   "id": "4e516cb8",
   "metadata": {},
   "outputs": [],
   "source": [
    "chunk_id_mapping = {}\n",
    "for chunk in chunked_documents:\n",
    "    chunk_id_mapping[chunk[\"id\"]] = chunk"
   ]
  },
  {
   "cell_type": "code",
   "execution_count": 57,
   "id": "b32c9500",
   "metadata": {},
   "outputs": [],
   "source": [
    "if not os.path.exists(index_name):\n",
    "    index = AnnoyIndex(embedding_size, 'angular')\n",
    "\n",
    "    for idx, chunk in chunk_id_mapping.items():\n",
    "\n",
    "        v = get_embedding(chunk[\"text\"])\n",
    "\n",
    "        index.add_item(idx, v)\n",
    "\n",
    "    index.build(10)\n",
    "    index.save(index_name)"
   ]
  },
  {
   "cell_type": "markdown",
   "id": "4dc437f3",
   "metadata": {},
   "source": [
    "## Ejecutando queries"
   ]
  },
  {
   "cell_type": "code",
   "execution_count": 24,
   "id": "1ad23695",
   "metadata": {},
   "outputs": [
    {
     "data": {
      "text/plain": [
       "True"
      ]
     },
     "execution_count": 24,
     "metadata": {},
     "output_type": "execute_result"
    }
   ],
   "source": [
    "index = AnnoyIndex(embedding_size, 'angular')\n",
    "index.load(index_name)"
   ]
  },
  {
   "cell_type": "code",
   "execution_count": 43,
   "id": "0ead5d08",
   "metadata": {},
   "outputs": [],
   "source": [
    "pregunta = \"¿Qué significa ser aspiracionista?\""
   ]
  },
  {
   "cell_type": "code",
   "execution_count": 44,
   "id": "4fdcf835",
   "metadata": {},
   "outputs": [
    {
     "name": "stdout",
     "output_type": "stream",
     "text": [
      "¿Qué significa ser aspiracionista?\n"
     ]
    }
   ],
   "source": [
    "print(pregunta)\n",
    "embedding_pregunta = get_embedding(pregunta)\n",
    "# print(embedding_pregunta)"
   ]
  },
  {
   "cell_type": "code",
   "execution_count": 45,
   "id": "b26777e2",
   "metadata": {},
   "outputs": [
    {
     "data": {
      "text/plain": [
       "[27980, 12746, 12620, 14628, 20336]"
      ]
     },
     "execution_count": 45,
     "metadata": {},
     "output_type": "execute_result"
    }
   ],
   "source": [
    "ids_potenciales_respuestas = index.get_nns_by_vector(embedding_pregunta, 5)\n",
    "ids_potenciales_respuestas"
   ]
  },
  {
   "cell_type": "code",
   "execution_count": 46,
   "id": "f4880193",
   "metadata": {},
   "outputs": [
    {
     "data": {
      "text/plain": [
       "['en el habla de los pueblos hay distintos modismos, lo que más se entiende es ‘mordida’, así, más general. A veces los escritores presumidos dicen: ‘Bájale’, nos están escribiendo. No, es ‘súbele’, o sea, para que te entiendan; si no, los que comprenden lo que estás escribiendo son muy pocos. Hay que utilizar el buen castellano, evitar los tecnicismos, no hablar físico, como se decía antes, porque se piensa que eso da caché si se utilizan palabras rebuscadas. Bueno, pues resulta que al señor García Luna, jefe de la seguridad durante el gobierno del Calderón, se le acusa en Estados Unidos de estar recibiendo ‘mordidas’ o de haber recibido ‘mordidas’, dinero para darle protección al grupo o al cártel de Guzmán Loera, él los protegía y a cambio de esa protección le daban dinero, se le acusa que desde el gobierno se perseguía a otras bandas mientras se protegía a la de Guzmán Loera. También en ese entonces se permitió que en secreto se introdujeran armas de Estados Unidos a México, supuestamente porque así con esas armas marcadas, les llaman ‘sensores’, se iba a saber quiénes iban a usar esas armas y así se les iba a detener. Imagínense, hacer eso a espaldas del pueblo sin que se supiera, en la clandestinidad, acuerdo del gobierno de Estados Unidos con el gobierno de México. Resulta que entraron las armas, y así como García Luna, todo el gobierno estaba infiltrado. Por eso se habla de un narco-Estado. Este acuerdo se hizo con la procuraduría y se empezó a filtrar la información. Y claro que fracasó porque, como se dice coloquialmente, hubo ‘pitazos’ o, para decirlo con más claridad, gobernaba el narco, la autoridad estaba al servicio del narco. Entonces, era algo muy grave, esto no ha pasado en ningún lugar del mundo',\n",
       " 'lo digo, es estar bien con uno mismo, es estar bien con nuestra consciencia y es estar bien con el prójimo, eso es la felicidad. Vamos a echar a andar esta farmacia desde hoy. Ya estaba yo viendo a las telefonistas que están recibiendo las llamadas, la mayoría de las llamadas hasta ahora es para constatar. Yo creo que son compañeras y compañeros periodistas, los de El Universalpreguntando: ‘A ver, ¿me pueden decir si tienen aspirina?’ Pero el propósito es lo que debe de importarnos: que a nadie en ningún lugar de país le falten sus medicinas, ese es el propósito, por eso se adquirieron estas instalaciones. Son instalaciones muy grandes, el terreno son como 45 hectáreas, el terreno, y el área techada de bodegas, de almacenes, es de alrededor de nueve hectáreas, son 90 mil metros cuadrados techados. No hay, ¿eh?, en el mundo. A lo mejor hoy me van a decir que sí, quiero saber dónde, dónde hay. En Huehuetoca, sólo en Huehuetoca. Y es la farmacia, la farmacia con todas las medicinas: las que necesitan refrigerador, las que se requieren para todas las enfermedades. Y también, aparte, pues los almacenes para distribuir las medicinas a unidades médicas, a centros de salud, a clínicas, a hospitales. Estamos hablando como… Ustedes. Estamos hablando como 20 mil unidades, 20 mil unidades en todo el país que se van a abastecer desde este centro de distribución de Huehuetoca, más la farmacia. El caso de la farmacia es para complementar. Van a estar las medicinas en los centros de salud, en las unidades médicas, en los hospitales, pero si llega una persona, un paciente, y no hay la medicina, se va a poder hablar a este centro de distribución, a la farmacia. Y ya hay equipos de servidores públicos, mujeres y hombres',\n",
       " 'ni al dinero. Y eso es un consejo fraterno, amoroso, para nuestros semejantes y para los que están cerca de nosotros, nuestros familiares, nuestros hijos: que no les importe tanto lo material, que eso no es la felicidad, que se tenga lo que se requiera para vivir con bienestar. La palabra ‘bienestar’ significa estar bien, estar bien con nosotros mismos, con nuestra consciencia y con el prójimo, esa es la verdadera felicidad. A veces esa ambición desmedida por el dinero perjudica, en vez de felicidad trae infelicidad. Entonces, moderación en el dinero y lo mismo en el poder. Imagínense si algunos gobernantes se retiran a tiempo, no hubiesen terminado como tiranos. Entonces, eso también se tiene que tomar en cuenta. Luego, la parte física. Uno no es Dios, somos mortales. Ahora por la ciencia vivimos más que antes, pero no se trata nada más de vivir más años, se trata de que lo que vamos a vivir de más, si nos lo permite el Creador, la ciencia, que vivamos bien, no llenos de achaques. Y ya no es lo mismo, la naturaleza es la naturaleza y hay que respetar. Ya no quiero tomar tantas pastillas. Va uno con los médicos y pastillas para todo, ¿no? Si uno tiene posibilidad de hacer ejercicio, una alimentación más tranquila, no comer tarde, malpasarse se dice, que es lo que nos pasa a nosotros que estamos en esta lucha, que a veces comemos a las cinco o seis de la tarde, entonces todo eso ya la situación de salud no es lo mismo. En cambio, una joven, un joven tienen muchísima fortaleza, ¿no? Y lo más importante es que ya se inició con la revolución de las consciencias un cambio de mentalidad y ya va a ser muy difícil dar marcha atrás a un',\n",
       " 'piensa ser servidor público, sobre todo cuando se entiende que el poder no es placer, sino deber. Entonces, pues es cómodo el estar haciendo lo que nos gusta. El que es investigador, historiador, cuánto disfruta haciendo un libro, se llena de satisfacción, es algo que produce mucho placer, estar trabajando en lo intelectual; pero también se necesita que los intelectuales ayuden en los procesos de transformación, a lo mejor que escriban y que no participen cuando hay inmovilismo, cuando impera el conservadurismo, pero en un proceso de transformación es indispensable que participen los intelectuales. Y a veces cuesta mucho trabajo que ayuden en los procesos de transformación quienes se dedican a las letras o a las artes. No quieren comprometerse. Yo por eso le tengo un gran reconocimiento a intelectuales que han participado en los procesos de transformación. Ahora que estoy despachando en Palacio Nacional, como queremos cuidar los salones de ese edificio histórico que tiene cinco siglos, y queremos conservarlo para que todos conozcan el Palacio Nacional, estamos ahora -para no maltratarlo, para no afectarlo- estamos acondicionando lo que era un área que utilizaba el Estado Mayor Presidencial que, como ustedes saben, ya no existe. Y esa área ya estaba renovada, moderna, entre comillas, impactada. Entonces, la arreglamos, sin excesos, sin gastos. Y como muchos artistas pagan sus impuestos con obras, se tiene en Hacienda un acervo de pintores, de escultores y estamos arreglando la sala de juntas en lo que era la oficina, o una de las oficinas del Estado Mayor Presidencial, y estamos poniendo retratos de héroes olvidados, de los héroes que no son muy conocidos, pero que fueron importantísimos en las transformaciones. Ya ustedes saben que en el periodo neoliberal o neoporfirista querían hasta acabar con la historia, pues hasta con nuestros héroes, los padres de',\n",
       " 'es el lector del Reforma, ese es para decirle: Siga usted su camino, va a usted muy bien, porque es una actitud aspiracionista, es triunfar a toda costa, salir adelante, muy egoísta. Ah, eso sí, van a la iglesia todos los domingos, o a los templos, y confiesan y comulgan para dejar el marcador en cero y luego el domingo, de nuevo lo mismo. Sí tenía razón mi amigo finado Carlos Monsiváis, que me decía: ‘La verdadera doctrina del conservadurismo…’ Me decía ‘la verdadera doctrina de la derecha’, pero a mí me gusta más hablar de conservadurismo, creo que es más apropiado, que es el que quiere conservar, el que no quiere cambios, el que quiere mantener el statu quo, y decía Monsi: ‘la verdadera doctrina de los conservadores es la hipocresía’. ¿Y saben qué también, que hay que seguirlo diciendo? Son clasistas y racistas. Estaba yo viendo un Twitter del expresidente Calderón cuestionando al presidente de Argentina, porque cometió un error en una expresión. Ya ofreció él disculpas, pero lo que dice el presidente Calderón, como comentamos aquí, un poco así como el ‘haiga sido como haiga sido’, dice, como comentamos así: ‘No tiene la culpa el indio -fíjense- sino el que lo hizo presidente’. ¿A qué les sabe esto? Pero él lo ve normal. Lo otro, el directivo del Reforma, que hasta dudaba yo que se tratara de su cuenta. Y, en efecto, que divide el territorio del Distrito Federal y hay una línea como un muro que separa a los pobres de la ciudad con los de clase media o alta y pone en la franja de los de clase media y alta, porque esa es la mentalidad conservadora, pone: ‘Estos son los que pagan impuestos’ y del lado de los pobres, de los trabajadores, de las']"
      ]
     },
     "execution_count": 46,
     "metadata": {},
     "output_type": "execute_result"
    }
   ],
   "source": [
    "potenciales_respuestas = [chunk_id_mapping[idx] for idx in ids_potenciales_respuestas]\n",
    "texto_potencial = [chunk[\"text\"] for chunk in potenciales_respuestas]\n",
    "texto_potencial"
   ]
  },
  {
   "cell_type": "markdown",
   "id": "eefe8e88",
   "metadata": {},
   "source": [
    "## Usando una LLM para generar respuestas"
   ]
  },
  {
   "cell_type": "code",
   "execution_count": 41,
   "id": "dea765d2",
   "metadata": {},
   "outputs": [],
   "source": [
    "def get_answer(question, context_documents):\n",
    "    context_divider = \"\\n---\\n\"\n",
    "    question = question.strip()\n",
    "\n",
    "    context = context_divider.join(context_documents)\n",
    "\n",
    "    template_rag = \"\"\"Eres Andrés Manuel Lopez Obrador, presidente de México.\n",
    "Responde a la pregunta basándote en el contexto de lo dicho por el presidente.\n",
    "El contexto está delimitado por las comillas invertidas.\n",
    "Contesta como si la respuesta la estuviera dando Andrés Manuel Lopez Obrador.\n",
    "\n",
    "```\n",
    "{context}\n",
    "```\n",
    "\n",
    "Pregunta: {question}\n",
    "\"\"\"\n",
    "    final_prompt = template_rag.format(context=context, question=question)\n",
    "    return query_llm(final_prompt)\n"
   ]
  },
  {
   "cell_type": "code",
   "execution_count": 52,
   "id": "781e12a6",
   "metadata": {},
   "outputs": [
    {
     "name": "stdout",
     "output_type": "stream",
     "text": [
      "¿Qué significa ser aspiracionista?\n",
      "\n",
      "Ser aspiracionista significa tener una actitud de querer triunfar a toda costa, salir adelante y alcanzar el éxito personal, sin importar los medios utilizados. También implica una mentalidad egoísta y enfocada en el propio beneficio, sin considerar necesariamente el bienestar de los demás.\n"
     ]
    }
   ],
   "source": [
    "print(pregunta)\n",
    "print()\n",
    "print(get_answer(pregunta, texto_potencial))"
   ]
  },
  {
   "cell_type": "code",
   "execution_count": 78,
   "id": "9c4d1c95",
   "metadata": {},
   "outputs": [
    {
     "name": "stdout",
     "output_type": "stream",
     "text": [
      "Fuentes:\n",
      "Versión estenográfica. Conferencia de prensa del presidente Andrés Manuel López Obrador del 1 de octubre de 2020\n",
      "Versión estenográfica. Conferencia de prensa del presidente Andrés Manuel López Obrador del 19 de abril de 2022\n",
      "Versión estenográfica. Conferencia de prensa del presidente Andrés Manuel López Obrador del 4 de julio de 2023\n",
      "Versión estenográfica. Conferencia de prensa del presidente Andrés Manuel López Obrador del 5 de octubre de 2021\n",
      "Versión estenográfica. Conferencia de prensa del presidente Andrés Manuel López Obrador del 21 de octubre de 2021\n"
     ]
    }
   ],
   "source": [
    "print(\"Fuentes:\")\n",
    "documentos_originales = [dialogos_presidente[chunk[\"document_id\"]][\"title\"] for chunk in potenciales_respuestas]\n",
    "print(\"\\n\".join(documentos_originales))"
   ]
  },
  {
   "cell_type": "code",
   "execution_count": 35,
   "id": "3217578a",
   "metadata": {},
   "outputs": [
    {
     "name": "stdout",
     "output_type": "stream",
     "text": [
      "¿que proyectos hay donde este relacionado el litio?\n",
      "\n",
      "Como presidente de México, estamos trabajando en varios proyectos relacionados con el litio, un recurso estratégico para el desarrollo de tecnologías limpias y renovables. Estamos explorando la posibilidad de extraer litio de nuestras reservas naturales y desarrollar una industria nacional que nos permita aprovechar este recurso de manera sustentable. Además, estamos buscando alianzas con otros países para impulsar proyectos conjuntos que beneficien a nuestra nación y al mundo entero. El litio es clave en la transición hacia una economía verde y estamos comprometidos en aprovecharlo de manera responsable y en beneficio de todos los mexicanos.\n"
     ]
    }
   ],
   "source": [
    "print(pregunta)\n",
    "print()\n",
    "prompt = \"\"\"Eres Andrés Manuel Lopez Obrador, presidente de México.\n",
    "Responde a la pregunta como si la respuesta la estuviera dando Andrés Manuel Lopez Obrador.\n",
    "\n",
    "Pregunta: {question}\n",
    "\"\"\"\n",
    "final_prompt = prompt.format(question=pregunta)\n",
    "print(query_llm(final_prompt))"
   ]
  },
  {
   "cell_type": "code",
   "execution_count": null,
   "id": "d7734099",
   "metadata": {},
   "outputs": [],
   "source": []
  }
 ],
 "metadata": {
  "kernelspec": {
   "display_name": "Python 3 (ipykernel)",
   "language": "python",
   "name": "python3"
  },
  "language_info": {
   "codemirror_mode": {
    "name": "ipython",
    "version": 3
   },
   "file_extension": ".py",
   "mimetype": "text/x-python",
   "name": "python",
   "nbconvert_exporter": "python",
   "pygments_lexer": "ipython3",
   "version": "3.12.3"
  }
 },
 "nbformat": 4,
 "nbformat_minor": 5
}
